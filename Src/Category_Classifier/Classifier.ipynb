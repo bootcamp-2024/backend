{
 "cells": [
  {
   "cell_type": "code",
   "execution_count": 1,
   "metadata": {},
   "outputs": [],
   "source": [
    "import pandas as pd\n",
    "import json\n",
    "import re\n",
    "from sklearn import svm\n",
    "from sklearn.feature_extraction.text import TfidfVectorizer\n",
    "import pickle\n",
    "from nltk.stem import WordNetLemmatizer"
   ]
  },
  {
   "cell_type": "code",
   "execution_count": 2,
   "metadata": {},
   "outputs": [],
   "source": [
    "#Import train data into dictionary\n",
    "jsonfile = r'.\\Data\\train.json'\n",
    "with open(jsonfile) as train_json:\n",
    "    json_dict = json.load(train_json)"
   ]
  },
  {
   "cell_type": "code",
   "execution_count": 3,
   "metadata": {},
   "outputs": [],
   "source": [
    "# Converting train data into data frame\n",
    "sno = []\n",
    "cuisine = []\n",
    "ingredients = []\n",
    "for i in range(len(json_dict)):\n",
    "    sno.append(json_dict[i]['id'])\n",
    "    cuisine.append(json_dict[i]['cuisine'])\n",
    "    ingredients.append(json_dict[i]['ingredients'])"
   ]
  },
  {
   "cell_type": "code",
   "execution_count": 4,
   "metadata": {},
   "outputs": [],
   "source": [
    "df = pd.DataFrame({'id':sno, \n",
    "                   'cuisine':cuisine, \n",
    "                   'ingredients':ingredients})"
   ]
  },
  {
   "cell_type": "code",
   "execution_count": 6,
   "metadata": {},
   "outputs": [],
   "source": [
    "#Lemmatize the ingredients field\n",
    "df['ingredients_mod'] = [' '.join([WordNetLemmatizer().lemmatize(re.sub('[^A-Za-z]', ' ', line)) for line in lists]).strip() for lists in df['ingredients']]"
   ]
  },
  {
   "cell_type": "code",
   "execution_count": 7,
   "metadata": {},
   "outputs": [],
   "source": [
    "# Adding Veg/Non-Veg information into train data set\n",
    "mylist =['fish', 'goat', 'chicken','beef','pork','prawn','egg','Katsuobushi','mackrel','fillet','lamb','steak','salmon','shrimp','bacon','ham','turkey','duck','seafood','squid']\n",
    "pattern = '|'.join(mylist)\n",
    "df['veg']=df.ingredients_mod.str.contains(pattern) \n",
    "df.loc[df.veg == True,'veg'] = 'non-vegetarian'\n",
    "df.loc[df.veg == False,'veg'] = 'vegetarian'"
   ]
  },
  {
   "cell_type": "code",
   "execution_count": 8,
   "metadata": {},
   "outputs": [],
   "source": [
    "#Removing the stop words from ingredients and vectorizing\n",
    "vectorizer = TfidfVectorizer(stop_words='english',\n",
    "                             ngram_range = ( 1 , 1 ),analyzer=\"word\", \n",
    "                             max_df = .57 , binary=False , token_pattern=r'\\w+' , sublinear_tf=False)\n",
    "train_tfidf=vectorizer.fit_transform(df['ingredients_mod'])\n",
    "\n",
    "X = train_tfidf\n",
    "Y = df['cuisine']\n",
    "Z = df['veg']"
   ]
  },
  {
   "cell_type": "code",
   "execution_count": 9,
   "metadata": {},
   "outputs": [],
   "source": [
    "#Using SVM to classify the BBC dataset\n",
    "lsvc_veg = svm.LinearSVC(C=1)\n",
    "lsvc_veg.fit(X,Z)\n",
    "filename = r'.\\Model\\model.pkl'\n",
    "with open(filename,'wb') as f:\n",
    "    pickle.dump(lsvc_veg,f)"
   ]
  }
 ],
 "metadata": {
  "kernelspec": {
   "display_name": "Python 3",
   "language": "python",
   "name": "python3"
  },
  "language_info": {
   "codemirror_mode": {
    "name": "ipython",
    "version": 3
   },
   "file_extension": ".py",
   "mimetype": "text/x-python",
   "name": "python",
   "nbconvert_exporter": "python",
   "pygments_lexer": "ipython3",
   "version": "3.11.9"
  }
 },
 "nbformat": 4,
 "nbformat_minor": 2
}
